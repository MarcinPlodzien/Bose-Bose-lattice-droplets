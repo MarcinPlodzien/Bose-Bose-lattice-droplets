{
 "cells": [
  {
   "cell_type": "markdown",
   "id": "873c6d2f",
   "metadata": {},
   "source": [
    "# Two component Bose-Hubbard model in 1D optical lattice\n",
    "\n"
   ]
  },
  {
   "cell_type": "markdown",
   "id": "e2a85b78",
   "metadata": {},
   "source": [
    "We consider an one-dimensional optical lattice of size $L$ with two-spieces bosonic mixture $a$ and $b$, with total number of atoms $N = N_a + N_b$. We consider $N_a = N_b$. The Hamiltonian of the system reads\n",
    "\n",
    "\\begin{equation}\n",
    "\\begin{split}\n",
    "\\hat{H} & = \\hat{H}_a + \\hat{H}_b + \\hat{H}_{ab}, \\\\\n",
    "\\hat{H}_a & = -t_a\\sum_{i} \\hat{a}^\\dagger_{i+1}\\hat{a}_i + \\frac{U_{aa}}{2}\\sum \\hat{n}^a_i(\\hat{n}^a_i-1), \\\\\n",
    "\\hat{H}_b & = -t_b\\sum_{i} \\hat{b}^\\dagger_{i+1}\\hat{b}_i + \\frac{U_{bb}}{2}\\sum \\hat{n}^b_i(\\hat{n}^b_i-1), \\\\\n",
    "\\hat{H}_{ab} & = U_{ab}\\sum \\hat{n}^a_i\\hat{n}^b_i,\n",
    "\\end{split}\n",
    "\\end{equation}\n",
    "where $\\hat{n}^a_i = \\hat{a}^\\dagger_i\\hat{a}_i$, $\\hat{n}^b = \\hat{b}^\\dagger_i\\hat{b}_i$, and $\\hat{H}_a$, $\\hat{H}_b$ are Bose-Hubbard Hamiltonians for component $a$ and $b$ respectively, while $\\hat{H}_{ab}$ is intercomponent interactions Hamiltonian.\n",
    "\n",
    "\n",
    "\n",
    "We consider repulsive intraatomic interactions $U_{aa}>0$, $U_{bb}>0$, and attractive intercomponent interactions $U_{ab}<0$. \n",
    "\n",
    "For simplicity we consider $t_a = t_b \\equiv t$, and $U_{aa} = U_{bb}$, and we define intercomponent attraction parameter $r = \\frac{U-U_{ab}}{U} = 1 - \\frac{U_{ab}}{U}$. We are interested in properties of the system in $(t/U - r)$ variables for fixed $N_a = N_b$ number of atoms. We take $U$ as an energy unit, setting $U=1$.\n",
    "\n",
    "We are interested in the following set of many-body correlators:\n",
    "1. One-body density matrices for component $a$, and $b$:\n",
    "     \\begin{equation}\n",
    "     \\begin{split}\n",
    "      \\rho^a_{ij}  &= \\langle \\hat{a}^\\dagger_i\\hat{a}_j\\rangle \\\\\n",
    "      \\rho^b_{ij}  &= \\langle \\hat{b}^\\dagger_i\\hat{b}_j\\rangle\n",
    "     \\end{split}\n",
    "     \\end{equation}\n",
    "\n",
    "2. Pair-correlator\n",
    "    \\begin{equation}\n",
    "    \\begin{split}\n",
    "     \\rho^{ab}_{ij} & = \\langle \\hat{a}^\\dagger_i\\hat{b}^\\dagger_i \\hat{b}_j\\hat{a}_j\\rangle - \\langle \\hat{a}^\\dagger_i\\hat{a}_j\\rangle \\langle \\hat{b}^\\dagger_i\\hat{b}_j\\rangle \\\\\n",
    "    & = \\langle \\hat{a}^\\dagger_i\\hat{b}^\\dagger_i \\hat{b}_j\\hat{a}_j\\rangle - \\hat{\\rho}^a_{ij}\\hat{\\rho}^b_{ij}\n",
    "    \\end{split}\n",
    "    \\end{equation}\n",
    "\n",
    "3. Density-density correlator\n",
    "    \\begin{equation}\n",
    "    \\begin{split}\n",
    "        d^a_{ij} = \\langle\\hat{n}^a_{ij}\\hat{n}^a_{ij}\\rangle - \\langle\\hat{n}^a_{ij}\\rangle\\langle\\hat{n}^a_{ij}\\rangle \\\\\n",
    "        d^b_{ij} = \\langle\\hat{n}^b_{ij}\\hat{n}^b_{ij}\\rangle - \\langle\\hat{n}^ab_{ij}\\rangle\\langle\\hat{n}^b_{ij}\\rangle \n",
    "        \\end{split}\n",
    "    \\end{equation}\n",
    "   \n",
    "We also define scalar quantities:\n",
    "\\begin{equation}\n",
    "\\begin{split}\n",
    " f_a & = \\frac{1}{L N_a} \\sum_{i,j}\\rho^a_{ij} \\\\\n",
    " f_b & = \\frac{1}{L N_a} \\sum_{i,j}\\rho^b_{ij} \\\\\n",
    " h_a & = \\frac{1}{L N_a} \\sum_{i}\\sum_{j\\ne L/2} \\rho^a_{ij} \\\\ \n",
    " h_b & = \\frac{1}{L N_a} \\sum_{i}\\sum_{j\\ne L/2} \\rho^b_{ij} \\\\\n",
    " h_{ab} & = \\frac{1}{L N_a N_b} \\sum_{i}\\sum_{j\\ne L/2} \\rho^{ab}_{ij} \\\\\n",
    "\\end{split}\n",
    "\\end{equation}\n",
    "\n",
    "\n",
    "DMRG sweeps are prepared as long as relative change in the entanglement entropy at the central bond after $40$ sweeps (for components $a$ or $b$) is smaller than $\\epsilon = 10^{-2}$ - which is a convergence parameter."
   ]
  },
  {
   "cell_type": "code",
   "execution_count": null,
   "id": "24804f95",
   "metadata": {},
   "outputs": [],
   "source": []
  }
 ],
 "metadata": {
  "kernelspec": {
   "display_name": "Python 3 (ipykernel)",
   "language": "python",
   "name": "python3"
  }
 },
 "nbformat": 4,
 "nbformat_minor": 5
}
